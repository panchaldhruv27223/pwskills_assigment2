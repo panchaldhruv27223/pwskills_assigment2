{
 "cells": [
  {
   "cell_type": "markdown",
   "id": "c63058b2",
   "metadata": {},
   "source": [
    "# Q1. Which keyword is used to create a function? Create a function to return a list of odd numbers in the range of 1 to 25.\n"
   ]
  },
  {
   "cell_type": "code",
   "execution_count": 1,
   "id": "2a84d9e5",
   "metadata": {},
   "outputs": [],
   "source": [
    "#  ans q1 \n",
    "#  def keyword is used to create a function\n",
    "def odd_value():\n",
    "    l = []\n",
    "    for i in range(1,26):\n",
    "        if (i%2!= 0) :\n",
    "            l.append(i)\n",
    "    return l\n"
   ]
  },
  {
   "cell_type": "code",
   "execution_count": 2,
   "id": "75273a9b",
   "metadata": {},
   "outputs": [
    {
     "data": {
      "text/plain": [
       "[1, 3, 5, 7, 9, 11, 13, 15, 17, 19, 21, 23, 25]"
      ]
     },
     "execution_count": 2,
     "metadata": {},
     "output_type": "execute_result"
    }
   ],
   "source": [
    "odd_value()"
   ]
  },
  {
   "cell_type": "markdown",
   "id": "b2b1851b",
   "metadata": {},
   "source": [
    "# Q2. Why *args and **kwargs is used in some functions? Create a function each for *args and **kwargs\n",
    "# to demonstrate their use."
   ]
  },
  {
   "cell_type": "code",
   "execution_count": 1,
   "id": "f01190a0",
   "metadata": {},
   "outputs": [],
   "source": [
    "#  *args is used in function to get multiple arguments\n",
    "#  *args type is tuple \n",
    "#  it take data like \n",
    "\n",
    "def test(*args):\n",
    "    \"\"\"this function take n arguments and give sum of that\"\"\"\n",
    "    s=sum(args)\n",
    "    return s"
   ]
  },
  {
   "cell_type": "code",
   "execution_count": 2,
   "id": "e1ff11f4",
   "metadata": {},
   "outputs": [
    {
     "data": {
      "text/plain": [
       "10"
      ]
     },
     "execution_count": 2,
     "metadata": {},
     "output_type": "execute_result"
    }
   ],
   "source": [
    "test(1,2,3,4)"
   ]
  },
  {
   "cell_type": "code",
   "execution_count": 13,
   "id": "fec58c07",
   "metadata": {},
   "outputs": [],
   "source": [
    "#  **kwargs is used when we want to pass n number of key value pair to function \n",
    "#  **kwargs type is dict\n",
    "#  **kwargs can be use like :\n",
    "\n",
    "def test111(**kwargs):\n",
    "    l1=[]\n",
    "    l2=[]\n",
    "    l1.append(kwargs.keys())\n",
    "    l2.append(kwargs.values())\n",
    "    \n",
    "    return l1,l2"
   ]
  },
  {
   "cell_type": "code",
   "execution_count": 14,
   "id": "c1df6905",
   "metadata": {},
   "outputs": [
    {
     "data": {
      "text/plain": [
       "([dict_keys(['a', 'b', 'c'])], [dict_values(['dhruv', 'panchal', 'dhruv'])])"
      ]
     },
     "execution_count": 14,
     "metadata": {},
     "output_type": "execute_result"
    }
   ],
   "source": [
    "test111(a=\"dhruv\" , b=\"panchal\" , c=\"dhruv\")"
   ]
  },
  {
   "cell_type": "markdown",
   "id": "d35d9664",
   "metadata": {},
   "source": [
    "# Q3. What is an iterator in python? Name the method used to initialise the iterator object and the method used for iteration. Use these methods to print the first five elements of the given list [2, 4, 6, 8, 10, 12, 14,16, 18, 20]."
   ]
  },
  {
   "cell_type": "code",
   "execution_count": null,
   "id": "a4347f22",
   "metadata": {},
   "outputs": [],
   "source": [
    "#  iterator is a object which we can get one by one \n",
    "#  iterable object we can iterate uisng iter() function \n",
    "#  string is a iterable object we can make string as an iterator and then we can get \n",
    "# each charector one by one using next() function "
   ]
  },
  {
   "cell_type": "code",
   "execution_count": 111,
   "id": "5032dae6",
   "metadata": {},
   "outputs": [],
   "source": [
    "#  for intialise an iterator we use iter() function if it is ieterable \n",
    "#  if it is already iterator then we simple use next() and use it  \n",
    "#  next() is used for iteration .\n",
    "\n",
    "#  string is iterrable so we first make it iterator using iter()\n",
    "# and then use next() to iteration\n"
   ]
  },
  {
   "cell_type": "code",
   "execution_count": 116,
   "id": "04e7b9bf",
   "metadata": {},
   "outputs": [
    {
     "data": {
      "text/plain": [
       "[2, 4, 6, 8, 10]"
      ]
     },
     "execution_count": 116,
     "metadata": {},
     "output_type": "execute_result"
    }
   ],
   "source": [
    "l = [2, 4, 6, 8, 10, 12, 14,16, 18, 20]\n",
    "l1 = iter(l)\n",
    "\n",
    "[next(l1) for i in range(0,5)]"
   ]
  },
  {
   "cell_type": "markdown",
   "id": "3f5bd452",
   "metadata": {},
   "source": [
    "# Q4. What is a generator function in python? Why yield keyword is used? Give an example of a generator\n",
    "# function."
   ]
  },
  {
   "cell_type": "code",
   "execution_count": 4,
   "id": "4710859f",
   "metadata": {},
   "outputs": [
    {
     "name": "stdout",
     "output_type": "stream",
     "text": [
      "0\n",
      "1\n",
      "2\n",
      "3\n",
      "4\n",
      "5\n",
      "6\n",
      "7\n",
      "8\n",
      "9\n"
     ]
    }
   ],
   "source": [
    "# this is special type of function\n",
    "#  generator function give one by one output \n",
    "range(0,10) # this is a generator function this give us a object \n",
    "\n",
    "for i in range(0,10) :\n",
    "    print(i)\n",
    "    \n",
    "#  this give us data "
   ]
  },
  {
   "cell_type": "code",
   "execution_count": 8,
   "id": "e6397409",
   "metadata": {},
   "outputs": [],
   "source": [
    "# yield is a keyword used to make generator function \n",
    "# yield is a for give data one by one \n",
    "\n",
    "def fab(n):\n",
    "    a,b = 0,1 \n",
    "    for i in range(0,n+1):\n",
    "        yield a\n",
    "        a,b = b,a+b\n",
    "    \n",
    "#  this function is now generator function"
   ]
  },
  {
   "cell_type": "code",
   "execution_count": 9,
   "id": "3fb6e48a",
   "metadata": {},
   "outputs": [
    {
     "name": "stdout",
     "output_type": "stream",
     "text": [
      "<generator object fab at 0x000002100A012BA0>\n",
      "0\n",
      "1\n",
      "1\n",
      "2\n",
      "3\n",
      "5\n",
      "8\n"
     ]
    }
   ],
   "source": [
    "print(fab(6))\n",
    "\n",
    "for i in fab(6):\n",
    "    print(i)\n",
    "\n"
   ]
  },
  {
   "cell_type": "markdown",
   "id": "797c1092",
   "metadata": {},
   "source": [
    "# Q5. Create a generator function for prime numbers less than 1000. Use the next() method to print the first 20 prime numbers."
   ]
  },
  {
   "cell_type": "code",
   "execution_count": 121,
   "id": "37400db4",
   "metadata": {},
   "outputs": [
    {
     "name": "stdout",
     "output_type": "stream",
     "text": [
      "1\n",
      "2\n",
      "3\n",
      "5\n",
      "7\n",
      "11\n",
      "13\n",
      "17\n",
      "19\n",
      "23\n",
      "29\n",
      "31\n",
      "37\n",
      "41\n",
      "43\n",
      "47\n",
      "53\n",
      "59\n",
      "61\n",
      "67\n",
      "71\n"
     ]
    }
   ],
   "source": [
    "def prime_fun():\n",
    "    v = False \n",
    "    \n",
    "    for i in range(1,1001):\n",
    "        \n",
    "        for j in range(2,i):\n",
    "            if i%j == 0:\n",
    "                v =False\n",
    "                break\n",
    "        else :\n",
    "            v= True\n",
    "        if(v):\n",
    "            yield i\n",
    "            \n",
    "            \n",
    "p = prime_fun()\n",
    "for i in range(21):\n",
    "    print(next(p))        "
   ]
  },
  {
   "cell_type": "code",
   "execution_count": 122,
   "id": "2bd4d0f5",
   "metadata": {},
   "outputs": [
    {
     "name": "stdout",
     "output_type": "stream",
     "text": [
      "1\n",
      "2\n",
      "3\n",
      "5\n",
      "7\n",
      "11\n",
      "13\n",
      "17\n",
      "19\n",
      "23\n",
      "29\n",
      "31\n",
      "37\n",
      "41\n",
      "43\n",
      "47\n",
      "53\n",
      "59\n",
      "61\n",
      "67\n",
      "71\n"
     ]
    }
   ],
   "source": [
    "def prime_fun(i,f):\n",
    "    v = False\n",
    "    i = i\n",
    "    f= f\n",
    "    while (i<=f):\n",
    "        for j in range(2,i):\n",
    "            if i%j == 0:\n",
    "                v =False\n",
    "                break\n",
    "        else :\n",
    "            v= True-\n",
    "        if(v):\n",
    "            yield i\n",
    "        i = i+1\n",
    "        \n",
    "p = prime_fun(1,1001)\n",
    "\n",
    "for i in range(21):\n",
    "    print(next(p))"
   ]
  },
  {
   "cell_type": "markdown",
   "id": "1f93a041",
   "metadata": {},
   "source": [
    "# Q6. Write a python program to print the first 10 Fibonacci numbers using a while loop."
   ]
  },
  {
   "cell_type": "code",
   "execution_count": 3,
   "id": "5631659d",
   "metadata": {},
   "outputs": [
    {
     "name": "stdout",
     "output_type": "stream",
     "text": [
      "enter a number :10\n",
      "0\n",
      "1\n",
      "1\n",
      "2\n",
      "3\n",
      "5\n",
      "8\n",
      "13\n",
      "21\n",
      "34\n"
     ]
    }
   ],
   "source": [
    "# ans q6\n",
    "\n",
    "num = int(input(\"enter a number :\"))\n",
    "\n",
    "a = 0\n",
    "b = 1\n",
    "count = 0\n",
    "\n",
    "while count<num :\n",
    "    print(a)\n",
    "    c=a+b\n",
    "    a=b\n",
    "    b=c\n",
    "    count = count+1"
   ]
  },
  {
   "cell_type": "markdown",
   "id": "ec289608",
   "metadata": {},
   "source": [
    "# Q7. Write a List Comprehension to iterate through the given string: ‘pwskills’.\n",
    "# Expected output: ['p', 'w', 's', 'k', 'i', 'l', 'l', 's']"
   ]
  },
  {
   "cell_type": "code",
   "execution_count": 108,
   "id": "684603d9",
   "metadata": {},
   "outputs": [],
   "source": [
    "string = \"pwskills\"\n",
    "s1 = iter(string)"
   ]
  },
  {
   "cell_type": "code",
   "execution_count": 109,
   "id": "cc5337b7",
   "metadata": {},
   "outputs": [],
   "source": [
    "l = [next(s1) for i in range(0,len(string))]"
   ]
  },
  {
   "cell_type": "code",
   "execution_count": 110,
   "id": "5c104f64",
   "metadata": {},
   "outputs": [
    {
     "data": {
      "text/plain": [
       "['p', 'w', 's', 'k', 'i', 'l', 'l', 's']"
      ]
     },
     "execution_count": 110,
     "metadata": {},
     "output_type": "execute_result"
    }
   ],
   "source": [
    "l"
   ]
  },
  {
   "cell_type": "markdown",
   "id": "15a89abc",
   "metadata": {},
   "source": [
    "# Q8. Write a python program to check whether a given number is Palindrome or not using a while loop..."
   ]
  },
  {
   "cell_type": "code",
   "execution_count": 23,
   "id": "a740e299",
   "metadata": {
    "scrolled": true
   },
   "outputs": [
    {
     "name": "stdout",
     "output_type": "stream",
     "text": [
      "enter a string :maammaam\n",
      "maammaam is palindrome\n"
     ]
    }
   ],
   "source": [
    "string = input(\"enter a string :\")\n",
    "\n",
    "l = len(string)\n",
    "k=l\n",
    "count = 0\n",
    "v = False \n",
    "\n",
    "while count<=l/2 :\n",
    "    if (string[count] == string[k-1]):\n",
    "        count = count+1\n",
    "        k=k-1\n",
    "        v = True \n",
    "    else:\n",
    "        v = False\n",
    "        break\n",
    "if(v):\n",
    "    print(f\"{string} is palindrome\")\n",
    "else:\n",
    "    print(f\"{string} is not palidrome\")"
   ]
  },
  {
   "cell_type": "markdown",
   "id": "384c4a3f",
   "metadata": {},
   "source": [
    "# Q9. Write a code to print odd numbers from 1 to 100 using list comprehension.\n",
    "# Note: Use a list comprehension to create a list from 1 to 100 and use another List comprehension to filter\n",
    "# out odd numbers."
   ]
  },
  {
   "cell_type": "code",
   "execution_count": 25,
   "id": "d5072cf5",
   "metadata": {},
   "outputs": [],
   "source": [
    "l =[i for i in range(1,101)]"
   ]
  },
  {
   "cell_type": "code",
   "execution_count": 26,
   "id": "ee08c10c",
   "metadata": {},
   "outputs": [
    {
     "data": {
      "text/plain": [
       "[1,\n",
       " 2,\n",
       " 3,\n",
       " 4,\n",
       " 5,\n",
       " 6,\n",
       " 7,\n",
       " 8,\n",
       " 9,\n",
       " 10,\n",
       " 11,\n",
       " 12,\n",
       " 13,\n",
       " 14,\n",
       " 15,\n",
       " 16,\n",
       " 17,\n",
       " 18,\n",
       " 19,\n",
       " 20,\n",
       " 21,\n",
       " 22,\n",
       " 23,\n",
       " 24,\n",
       " 25,\n",
       " 26,\n",
       " 27,\n",
       " 28,\n",
       " 29,\n",
       " 30,\n",
       " 31,\n",
       " 32,\n",
       " 33,\n",
       " 34,\n",
       " 35,\n",
       " 36,\n",
       " 37,\n",
       " 38,\n",
       " 39,\n",
       " 40,\n",
       " 41,\n",
       " 42,\n",
       " 43,\n",
       " 44,\n",
       " 45,\n",
       " 46,\n",
       " 47,\n",
       " 48,\n",
       " 49,\n",
       " 50,\n",
       " 51,\n",
       " 52,\n",
       " 53,\n",
       " 54,\n",
       " 55,\n",
       " 56,\n",
       " 57,\n",
       " 58,\n",
       " 59,\n",
       " 60,\n",
       " 61,\n",
       " 62,\n",
       " 63,\n",
       " 64,\n",
       " 65,\n",
       " 66,\n",
       " 67,\n",
       " 68,\n",
       " 69,\n",
       " 70,\n",
       " 71,\n",
       " 72,\n",
       " 73,\n",
       " 74,\n",
       " 75,\n",
       " 76,\n",
       " 77,\n",
       " 78,\n",
       " 79,\n",
       " 80,\n",
       " 81,\n",
       " 82,\n",
       " 83,\n",
       " 84,\n",
       " 85,\n",
       " 86,\n",
       " 87,\n",
       " 88,\n",
       " 89,\n",
       " 90,\n",
       " 91,\n",
       " 92,\n",
       " 93,\n",
       " 94,\n",
       " 95,\n",
       " 96,\n",
       " 97,\n",
       " 98,\n",
       " 99,\n",
       " 100]"
      ]
     },
     "execution_count": 26,
     "metadata": {},
     "output_type": "execute_result"
    }
   ],
   "source": [
    "l\n"
   ]
  },
  {
   "cell_type": "code",
   "execution_count": 32,
   "id": "8e7a990f",
   "metadata": {},
   "outputs": [],
   "source": [
    "l1 = [i for i in l if (i+1)%2 == 0]"
   ]
  },
  {
   "cell_type": "code",
   "execution_count": 33,
   "id": "3037d894",
   "metadata": {},
   "outputs": [
    {
     "data": {
      "text/plain": [
       "[1,\n",
       " 3,\n",
       " 5,\n",
       " 7,\n",
       " 9,\n",
       " 11,\n",
       " 13,\n",
       " 15,\n",
       " 17,\n",
       " 19,\n",
       " 21,\n",
       " 23,\n",
       " 25,\n",
       " 27,\n",
       " 29,\n",
       " 31,\n",
       " 33,\n",
       " 35,\n",
       " 37,\n",
       " 39,\n",
       " 41,\n",
       " 43,\n",
       " 45,\n",
       " 47,\n",
       " 49,\n",
       " 51,\n",
       " 53,\n",
       " 55,\n",
       " 57,\n",
       " 59,\n",
       " 61,\n",
       " 63,\n",
       " 65,\n",
       " 67,\n",
       " 69,\n",
       " 71,\n",
       " 73,\n",
       " 75,\n",
       " 77,\n",
       " 79,\n",
       " 81,\n",
       " 83,\n",
       " 85,\n",
       " 87,\n",
       " 89,\n",
       " 91,\n",
       " 93,\n",
       " 95,\n",
       " 97,\n",
       " 99]"
      ]
     },
     "execution_count": 33,
     "metadata": {},
     "output_type": "execute_result"
    }
   ],
   "source": [
    "l1"
   ]
  }
 ],
 "metadata": {
  "kernelspec": {
   "display_name": "Python 3 (ipykernel)",
   "language": "python",
   "name": "python3"
  },
  "language_info": {
   "codemirror_mode": {
    "name": "ipython",
    "version": 3
   },
   "file_extension": ".py",
   "mimetype": "text/x-python",
   "name": "python",
   "nbconvert_exporter": "python",
   "pygments_lexer": "ipython3",
   "version": "3.9.7"
  }
 },
 "nbformat": 4,
 "nbformat_minor": 5
}
